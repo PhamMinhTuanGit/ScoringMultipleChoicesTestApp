{
 "cells": [
  {
   "cell_type": "code",
   "execution_count": 32,
   "metadata": {},
   "outputs": [
    {
     "data": {
      "text/plain": [
       "True"
      ]
     },
     "execution_count": 32,
     "metadata": {},
     "output_type": "execute_result"
    }
   ],
   "source": [
    "import cv2\n",
    "import utils\n",
    "import matplotlib.pyplot as plt\n",
    "inputs = []\n",
    "targets = []\n",
    "image = cv2.imread(\"/Users/phamminhtuan/Downloads/Trainning_SET/Images/IMG_1590_iter_0.jpg\")\n",
    "labels, coords = utils.read_file_to_tensors(\"/Users/phamminhtuan/Downloads/Trainning_SET/Labels/IMG_1590_iter_0.txt\")\n",
    "for i, coord in enumerate(coords):\n",
    "    x1, y1, x2, y2 = utils.find_yolov8_square(image, coord)\n",
    "    cv2.rectangle(image, (x1, y1), (x2, y2), (0, 255, 0), 2)\n",
    "cv2.imwrite(\"/Users/phamminhtuan/Desktop/AIChallenge/avg_coords.jpg\", image)"
   ]
  },
  {
   "cell_type": "markdown",
   "metadata": {},
   "source": [
    "# Dataset"
   ]
  },
  {
   "cell_type": "code",
   "execution_count": 21,
   "metadata": {},
   "outputs": [],
   "source": [
    "import torch\n",
    "from torchvision import transforms\n",
    "class MyDataset(torch.utils.data.Dataset):\n",
    "    \"\"\"\n",
    "    Initializes the dataset by reading the image and label files, and processes them into tensors.\n",
    "\n",
    "    Args:\n",
    "        image_path (str): Path to the input image.\n",
    "        label_path (str): Path to the label file (YOLO format).\n",
    "\n",
    "    The method reads the image from the specified path and the label data, then processes each labeled \n",
    "    bounding box to crop and transform the image into a tensor. The processed tensors and corresponding \n",
    "    labels are stored in `self.inputs` and `self.targets` respectively.\n",
    "    \"\"\"\n",
    "    def __init__(self, image_path, label_path):\n",
    "        super().__init__()\n",
    "        \n",
    "        self.image_path = image_path\n",
    "        self.label_path = label_path\n",
    "        self.inputs, self.targets = [], []\n",
    "        self.transform = transforms.Compose([\n",
    "            transforms.ToTensor(),\n",
    "            transforms.Resize((32, 32))\n",
    "        ])\n",
    "        image = cv2.imread(self.image_path)\n",
    "        labels, coords = utils.read_file_to_tensors(self.label_path)\n",
    "        for i, coord in enumerate(coords):\n",
    "            square = utils.find_yolov8_square(image, coord)\n",
    "            cropped_image = utils.get_box(image, square)\n",
    "            cropped_image = cv2.cvtColor(cropped_image, cv2.COLOR_BGR2RGB)\n",
    "            cropped_tensor = self.transform(cropped_image)\n",
    "            self.inputs.append(cropped_tensor)\n",
    "            self.targets.append(labels[i])\n",
    "    def __getitem__(self, idx):\n",
    "        image = self.inputs[idx]\n",
    "        label = self.targets[idx]\n",
    "        return image, label\n",
    "    def __len__(self):\n",
    "        return len(self.inputs)"
   ]
  },
  {
   "cell_type": "code",
   "execution_count": 49,
   "metadata": {},
   "outputs": [],
   "source": [
    "import os\n",
    "image_folder = \"/Users/phamminhtuan/Downloads/Trainning_SET/Images\"\n",
    "label_folder = \"/Users/phamminhtuan/Downloads/Trainning_SET/Labels\"\n",
    "train = []\n",
    "for filename in os.listdir(image_folder):\n",
    "    if filename.endswith('iter_0.jpg'):  # Lọc các file hình ảnh\n",
    "        image_path = os.path.join(image_folder, filename)\n",
    "        label_path = os.path.join(label_folder, os.path.splitext(filename)[0] + \".txt\")  # Giả định file nhãn cùng tên với file ảnh\n",
    "        temp = MyDataset(image_path,label_path)\n",
    "        for i in range(len(temp)):\n",
    "            train.append(temp[i])\n",
    "\n",
    "\n"
   ]
  },
  {
   "cell_type": "code",
   "execution_count": 50,
   "metadata": {},
   "outputs": [],
   "source": [
    "import os\n",
    "image_folder = \"/Users/phamminhtuan/Downloads/Trainning_SET/Images\"\n",
    "label_folder = \"/Users/phamminhtuan/Downloads/Trainning_SET/Labels\"\n",
    "test = []\n",
    "for filename in os.listdir(image_folder):\n",
    "    if filename.endswith('iter_1.jpg'):  # Lọc các file hình ảnh\n",
    "        image_path = os.path.join(image_folder, filename)\n",
    "        label_path = os.path.join(label_folder, os.path.splitext(filename)[0] + \".txt\")  # Giả định file nhãn cùng tên với file ảnh\n",
    "        temp_test = MyDataset(image_path,label_path)\n",
    "        for i in range(len(temp_test)):\n",
    "            test.append(temp_test[i])"
   ]
  },
  {
   "cell_type": "code",
   "execution_count": 78,
   "metadata": {},
   "outputs": [],
   "source": [
    "import os\n",
    "image_folder = \"/Users/phamminhtuan/Downloads/Trainning_SET/Images\"\n",
    "label_folder = \"/Users/phamminhtuan/Downloads/Trainning_SET/Labels\"\n",
    "test2 = []\n",
    "for filename in os.listdir(image_folder):\n",
    "    if filename.endswith('iter_2.jpg'):  # Lọc các file hình ảnh\n",
    "        image_path = os.path.join(image_folder, filename)\n",
    "        label_path = os.path.join(label_folder, os.path.splitext(filename)[0] + \".txt\")  # Giả định file nhãn cùng tên với file ảnh\n",
    "        temp_test = MyDataset(image_path,label_path)\n",
    "        for i in range(len(temp_test)):\n",
    "            test2.append(temp_test[i])"
   ]
  },
  {
   "cell_type": "code",
   "execution_count": 79,
   "metadata": {},
   "outputs": [
    {
     "name": "stdout",
     "output_type": "stream",
     "text": [
      "9283 9919 9920\n",
      "torch.Size([3, 32, 32]) torch.Size([])\n"
     ]
    }
   ],
   "source": [
    "print(len(train), len(test), len(test2))\n",
    "print(temp[0][0].shape,temp[0][1].shape)\n"
   ]
  },
  {
   "cell_type": "code",
   "execution_count": 80,
   "metadata": {},
   "outputs": [
    {
     "name": "stdout",
     "output_type": "stream",
     "text": [
      "291 310\n"
     ]
    }
   ],
   "source": [
    "train_loader = torch.utils.data.DataLoader(train, batch_size=32, shuffle=True)\n",
    "val_loader = torch.utils.data.DataLoader(test2, batch_size=32, shuffle=True)\n",
    "print (len(train_loader), len(val_loader))"
   ]
  },
  {
   "cell_type": "markdown",
   "metadata": {},
   "source": [
    "# Model"
   ]
  },
  {
   "cell_type": "code",
   "execution_count": 42,
   "metadata": {},
   "outputs": [],
   "source": [
    "import torch.nn as nn\n",
    "class EfficientCNN(nn.Module):\n",
    "    def __init__(self):\n",
    "        \"\"\"\n",
    "        Initializes the EfficientCNN model. This model is an efficient convolutional neural network for the \n",
    "        classification task. It consists of a feature extraction part and a classification part. The feature \n",
    "        extraction part is a convolutional neural network which consists of 3 convolutional layers with \n",
    "        maxpooling, where the number of channels are 32, 64, 128 respectively. The classification part is a \n",
    "        fully connected neural network which consists of 2 fully connected layers with dropout rate 0.5.\n",
    "\n",
    "        Args:\n",
    "            None\n",
    "        \"\"\"\n",
    "        super(EfficientCNN, self).__init__()\n",
    "        self.features = nn.Sequential(\n",
    "            nn.Conv2d(3, 32, kernel_size=3, padding=1),\n",
    "            nn.BatchNorm2d(32),\n",
    "            nn.ReLU(inplace=True),\n",
    "            nn.MaxPool2d(kernel_size=2, stride=2),\n",
    "            nn.Conv2d(32, 64, kernel_size=3, padding=1),\n",
    "            nn.BatchNorm2d(64),\n",
    "            nn.ReLU(inplace=True),\n",
    "            nn.MaxPool2d(kernel_size=2, stride=2),\n",
    "            nn.Conv2d(64, 128, kernel_size=3, padding=1),\n",
    "            nn.BatchNorm2d(128),\n",
    "            nn.ReLU(inplace=True),\n",
    "            nn.MaxPool2d(kernel_size=2, stride=2)\n",
    "        )\n",
    "        self.classifier = nn.Sequential(\n",
    "            nn.Linear(128 * 4 * 4, 256),\n",
    "            nn.ReLU(inplace=True),\n",
    "            nn.Dropout(0.5),\n",
    "            nn.Linear(256, 2)\n",
    "        )\n",
    "    \n",
    "    def forward(self, x):\n",
    "        x = self.features(x)\n",
    "        x = x.view(x.size(0), -1)\n",
    "        x = self.classifier(x)\n",
    "        return x"
   ]
  },
  {
   "cell_type": "markdown",
   "metadata": {},
   "source": [
    "# Train"
   ]
  },
  {
   "cell_type": "code",
   "execution_count": 63,
   "metadata": {},
   "outputs": [],
   "source": [
    "device = torch.device(\"mps\")"
   ]
  },
  {
   "cell_type": "code",
   "execution_count": 70,
   "metadata": {},
   "outputs": [],
   "source": [
    "import torch.optim as optim\n",
    "from torch.optim.lr_scheduler import ReduceLROnPlateau\n",
    "def train_model(train_loader, val_loader, epochs=50):\n",
    "    \"\"\"\n",
    "    Train the EfficientCNN model on the given training data.\n",
    "\n",
    "    Args:\n",
    "        train_loader (DataLoader): A DataLoader for the training data.\n",
    "        val_loader (DataLoader): A DataLoader for the validation data.\n",
    "        epochs (int, optional): The number of epochs to train. Defaults to 50.\n",
    "        batch_size (int, optional): The batch size to use for training. Defaults to 64.\n",
    "\n",
    "    Returns:\n",
    "        nn.Module: The trained EfficientCNN model.\n",
    "    \"\"\"\n",
    "    #model = EfficientCNN().to(device)\n",
    "    model = EfficientCNN()\n",
    "    criterion = nn.CrossEntropyLoss()\n",
    "    optimizer = optim.Adam(model.parameters(), lr=0.001, weight_decay=1e-4)\n",
    "    scheduler = ReduceLROnPlateau(optimizer, mode='min', factor=0.1, patience=5)\n",
    "    best_val_accuracy = 0\n",
    "    \n",
    "    for epoch in range(epochs):\n",
    "        model.train()\n",
    "        train_loss = 0\n",
    "        for inputs, labels in train_loader:\n",
    "            optimizer.zero_grad()\n",
    "            labels = labels.long()\n",
    "            outputs = model(inputs)\n",
    "            loss = criterion(outputs, labels)\n",
    "            loss.backward()\n",
    "            optimizer.step()\n",
    "            train_loss += loss.item()\n",
    "        \n",
    "        model.eval()\n",
    "        val_loss = 0\n",
    "        correct = 0\n",
    "        total = 0\n",
    "        with torch.no_grad():\n",
    "            for inputs, labels in val_loader:\n",
    "                outputs = model(inputs)\n",
    "                labels = labels.long()\n",
    "                loss = criterion(outputs, labels)\n",
    "                val_loss += loss.item()\n",
    "                _, predicted = torch.max(outputs.data, 1)\n",
    "                total += labels.size(0)\n",
    "                correct += (predicted == labels).sum().item()\n",
    "        \n",
    "        val_accuracy = 100 * correct / total\n",
    "        scheduler.step(val_loss)\n",
    "        print(f'Epoch {epoch+1}/{epochs}')\n",
    "        print(f'Train Loss: {train_loss/len(train_loader):.4f}')\n",
    "        print(f'Val Loss: {val_loss/len(val_loader):.4f}')\n",
    "        print(f'Val Accuracy: {val_accuracy:.2f}%')\n",
    "        \n",
    "        if val_accuracy > best_val_accuracy:\n",
    "            best_val_accuracy = val_accuracy\n",
    "            torch.save(model.state_dict(), '/Users/phamminhtuan/Desktop/AIChallenge/cnn.pth')\n",
    "    \n",
    "    return model"
   ]
  },
  {
   "cell_type": "code",
   "execution_count": 71,
   "metadata": {},
   "outputs": [
    {
     "name": "stdout",
     "output_type": "stream",
     "text": [
      "Epoch 1/50\n",
      "Train Loss: 0.0541\n",
      "Val Loss: 0.0234\n",
      "Val Accuracy: 99.31%\n",
      "Epoch 2/50\n",
      "Train Loss: 0.0233\n",
      "Val Loss: 0.0354\n",
      "Val Accuracy: 98.40%\n",
      "Epoch 3/50\n",
      "Train Loss: 0.0206\n",
      "Val Loss: 0.0133\n",
      "Val Accuracy: 99.67%\n",
      "Epoch 4/50\n",
      "Train Loss: 0.0172\n",
      "Val Loss: 0.0133\n",
      "Val Accuracy: 99.60%\n",
      "Epoch 5/50\n",
      "Train Loss: 0.0140\n",
      "Val Loss: 0.0193\n",
      "Val Accuracy: 99.58%\n",
      "Epoch 6/50\n",
      "Train Loss: 0.0129\n",
      "Val Loss: 0.0671\n",
      "Val Accuracy: 99.06%\n",
      "Epoch 7/50\n",
      "Train Loss: 0.0123\n",
      "Val Loss: 0.0091\n",
      "Val Accuracy: 99.72%\n",
      "Epoch 8/50\n",
      "Train Loss: 0.0099\n",
      "Val Loss: 0.0203\n",
      "Val Accuracy: 99.39%\n",
      "Epoch 9/50\n",
      "Train Loss: 0.0117\n",
      "Val Loss: 0.2960\n",
      "Val Accuracy: 88.26%\n",
      "Epoch 10/50\n",
      "Train Loss: 0.0106\n",
      "Val Loss: 0.0230\n",
      "Val Accuracy: 99.49%\n",
      "Epoch 11/50\n",
      "Train Loss: 0.0078\n",
      "Val Loss: 0.0076\n",
      "Val Accuracy: 99.80%\n",
      "Epoch 12/50\n",
      "Train Loss: 0.0078\n",
      "Val Loss: 0.0086\n",
      "Val Accuracy: 99.82%\n",
      "Epoch 13/50\n",
      "Train Loss: 0.0064\n",
      "Val Loss: 0.0221\n",
      "Val Accuracy: 99.61%\n",
      "Epoch 14/50\n",
      "Train Loss: 0.0088\n",
      "Val Loss: 0.0116\n",
      "Val Accuracy: 99.78%\n",
      "Epoch 15/50\n",
      "Train Loss: 0.0085\n",
      "Val Loss: 0.0109\n",
      "Val Accuracy: 99.81%\n",
      "Epoch 16/50\n",
      "Train Loss: 0.0084\n",
      "Val Loss: 0.0184\n",
      "Val Accuracy: 99.53%\n",
      "Epoch 17/50\n",
      "Train Loss: 0.0052\n",
      "Val Loss: 0.0092\n",
      "Val Accuracy: 99.74%\n",
      "Epoch 18/50\n",
      "Train Loss: 0.0031\n",
      "Val Loss: 0.0081\n",
      "Val Accuracy: 99.79%\n",
      "Epoch 19/50\n",
      "Train Loss: 0.0023\n",
      "Val Loss: 0.0078\n",
      "Val Accuracy: 99.84%\n",
      "Epoch 20/50\n",
      "Train Loss: 0.0015\n",
      "Val Loss: 0.0094\n",
      "Val Accuracy: 99.79%\n",
      "Epoch 21/50\n",
      "Train Loss: 0.0017\n",
      "Val Loss: 0.0081\n",
      "Val Accuracy: 99.82%\n",
      "Epoch 22/50\n",
      "Train Loss: 0.0013\n",
      "Val Loss: 0.0076\n",
      "Val Accuracy: 99.85%\n",
      "Epoch 23/50\n",
      "Train Loss: 0.0012\n",
      "Val Loss: 0.0074\n",
      "Val Accuracy: 99.85%\n",
      "Epoch 24/50\n",
      "Train Loss: 0.0008\n",
      "Val Loss: 0.0078\n",
      "Val Accuracy: 99.81%\n",
      "Epoch 25/50\n",
      "Train Loss: 0.0008\n",
      "Val Loss: 0.0085\n",
      "Val Accuracy: 99.80%\n",
      "Epoch 26/50\n",
      "Train Loss: 0.0006\n",
      "Val Loss: 0.0081\n",
      "Val Accuracy: 99.84%\n",
      "Epoch 27/50\n",
      "Train Loss: 0.0004\n",
      "Val Loss: 0.0082\n",
      "Val Accuracy: 99.86%\n",
      "Epoch 28/50\n",
      "Train Loss: 0.0005\n",
      "Val Loss: 0.0091\n",
      "Val Accuracy: 99.82%\n",
      "Epoch 29/50\n",
      "Train Loss: 0.0012\n",
      "Val Loss: 0.0086\n",
      "Val Accuracy: 99.82%\n",
      "Epoch 30/50\n",
      "Train Loss: 0.0008\n",
      "Val Loss: 0.0079\n",
      "Val Accuracy: 99.84%\n",
      "Epoch 31/50\n",
      "Train Loss: 0.0005\n",
      "Val Loss: 0.0077\n",
      "Val Accuracy: 99.85%\n",
      "Epoch 32/50\n",
      "Train Loss: 0.0005\n",
      "Val Loss: 0.0089\n",
      "Val Accuracy: 99.81%\n",
      "Epoch 33/50\n",
      "Train Loss: 0.0005\n",
      "Val Loss: 0.0078\n",
      "Val Accuracy: 99.85%\n",
      "Epoch 34/50\n",
      "Train Loss: 0.0005\n",
      "Val Loss: 0.0078\n",
      "Val Accuracy: 99.85%\n",
      "Epoch 35/50\n",
      "Train Loss: 0.0004\n",
      "Val Loss: 0.0080\n",
      "Val Accuracy: 99.85%\n",
      "Epoch 36/50\n",
      "Train Loss: 0.0004\n",
      "Val Loss: 0.0088\n",
      "Val Accuracy: 99.82%\n",
      "Epoch 37/50\n",
      "Train Loss: 0.0004\n",
      "Val Loss: 0.0084\n",
      "Val Accuracy: 99.84%\n",
      "Epoch 38/50\n",
      "Train Loss: 0.0003\n",
      "Val Loss: 0.0082\n",
      "Val Accuracy: 99.84%\n",
      "Epoch 39/50\n",
      "Train Loss: 0.0002\n",
      "Val Loss: 0.0094\n",
      "Val Accuracy: 99.81%\n",
      "Epoch 40/50\n",
      "Train Loss: 0.0003\n",
      "Val Loss: 0.0083\n",
      "Val Accuracy: 99.84%\n",
      "Epoch 41/50\n",
      "Train Loss: 0.0004\n",
      "Val Loss: 0.0083\n",
      "Val Accuracy: 99.85%\n",
      "Epoch 42/50\n",
      "Train Loss: 0.0004\n",
      "Val Loss: 0.0083\n",
      "Val Accuracy: 99.83%\n",
      "Epoch 43/50\n",
      "Train Loss: 0.0006\n",
      "Val Loss: 0.0086\n",
      "Val Accuracy: 99.82%\n",
      "Epoch 44/50\n",
      "Train Loss: 0.0005\n",
      "Val Loss: 0.0086\n",
      "Val Accuracy: 99.82%\n",
      "Epoch 45/50\n",
      "Train Loss: 0.0004\n",
      "Val Loss: 0.0080\n",
      "Val Accuracy: 99.85%\n",
      "Epoch 46/50\n",
      "Train Loss: 0.0003\n",
      "Val Loss: 0.0082\n",
      "Val Accuracy: 99.85%\n",
      "Epoch 47/50\n",
      "Train Loss: 0.0004\n",
      "Val Loss: 0.0087\n",
      "Val Accuracy: 99.81%\n",
      "Epoch 48/50\n",
      "Train Loss: 0.0003\n",
      "Val Loss: 0.0085\n",
      "Val Accuracy: 99.83%\n",
      "Epoch 49/50\n",
      "Train Loss: 0.0004\n",
      "Val Loss: 0.0082\n",
      "Val Accuracy: 99.83%\n",
      "Epoch 50/50\n",
      "Train Loss: 0.0004\n",
      "Val Loss: 0.0083\n",
      "Val Accuracy: 99.85%\n"
     ]
    },
    {
     "data": {
      "text/plain": [
       "EfficientCNN(\n",
       "  (features): Sequential(\n",
       "    (0): Conv2d(3, 32, kernel_size=(3, 3), stride=(1, 1), padding=(1, 1))\n",
       "    (1): BatchNorm2d(32, eps=1e-05, momentum=0.1, affine=True, track_running_stats=True)\n",
       "    (2): ReLU(inplace=True)\n",
       "    (3): MaxPool2d(kernel_size=2, stride=2, padding=0, dilation=1, ceil_mode=False)\n",
       "    (4): Conv2d(32, 64, kernel_size=(3, 3), stride=(1, 1), padding=(1, 1))\n",
       "    (5): BatchNorm2d(64, eps=1e-05, momentum=0.1, affine=True, track_running_stats=True)\n",
       "    (6): ReLU(inplace=True)\n",
       "    (7): MaxPool2d(kernel_size=2, stride=2, padding=0, dilation=1, ceil_mode=False)\n",
       "    (8): Conv2d(64, 128, kernel_size=(3, 3), stride=(1, 1), padding=(1, 1))\n",
       "    (9): BatchNorm2d(128, eps=1e-05, momentum=0.1, affine=True, track_running_stats=True)\n",
       "    (10): ReLU(inplace=True)\n",
       "    (11): MaxPool2d(kernel_size=2, stride=2, padding=0, dilation=1, ceil_mode=False)\n",
       "  )\n",
       "  (classifier): Sequential(\n",
       "    (0): Linear(in_features=2048, out_features=256, bias=True)\n",
       "    (1): ReLU(inplace=True)\n",
       "    (2): Dropout(p=0.5, inplace=False)\n",
       "    (3): Linear(in_features=256, out_features=2, bias=True)\n",
       "  )\n",
       ")"
      ]
     },
     "execution_count": 71,
     "metadata": {},
     "output_type": "execute_result"
    }
   ],
   "source": [
    "train_model(train_loader, val_loader, epochs=50)"
   ]
  },
  {
   "cell_type": "markdown",
   "metadata": {},
   "source": [
    "# Data augment"
   ]
  },
  {
   "cell_type": "code",
   "execution_count": 17,
   "metadata": {},
   "outputs": [],
   "source": [
    "import matplotlib.pyplot as plt"
   ]
  },
  {
   "cell_type": "code",
   "execution_count": null,
   "metadata": {},
   "outputs": [],
   "source": [
    "def remove_duplicate_lines(file_path):\n",
    "    try:\n",
    "        # Đọc nội dung file và loại bỏ các dòng trùng lặp\n",
    "        with open(file_path, 'r', encoding='utf-8') as file:\n",
    "            lines = file.readlines()\n",
    "            unique_lines = list(dict.fromkeys(lines))  # Loại bỏ các dòng trùng lặp và giữ nguyên thứ tự\n",
    "        \n",
    "        # Ghi lại nội dung không trùng lặp vào file\n",
    "        with open(file_path, 'w', encoding='utf-8') as file:\n",
    "            file.writelines(unique_lines)\n",
    "        print(\"Đã loại bỏ các dòng trùng lặp thành công.\")\n",
    "    except FileNotFoundError:\n",
    "        print(f\"File {file_path} không tồn tại.\")\n",
    "    except Exception as e:\n",
    "        print(f\"Đã xảy ra lỗi: {e}\")"
   ]
  },
  {
   "cell_type": "code",
   "execution_count": 25,
   "metadata": {},
   "outputs": [],
   "source": [
    "def remove_duplicates_column2_and_column3(file_path, output_path):\n",
    "    try:\n",
    "        # Đọc file và lưu dữ liệu\n",
    "        with open(file_path, 'r', encoding='utf-8') as infile:\n",
    "            lines = infile.readlines()\n",
    "\n",
    "        # Tách các dòng thành danh sách các cột\n",
    "        rows = [line.strip().split() for line in lines]\n",
    "\n",
    "        # Lưu tần suất xuất hiện của các giá trị ở cột 2 và cột 3\n",
    "        counts = {}\n",
    "        for row in rows:\n",
    "            if len(row) > 2:  # Đảm bảo có ít nhất 3 cột\n",
    "                key = (row[1], row[2])  # Chỉ lấy giá trị ở cột 2 và cột 3\n",
    "                counts[key] = counts.get(key, 0) + 1\n",
    "\n",
    "        # Lọc bỏ các dòng có giá trị ở cột 2 và cột 3 trùng lặp\n",
    "        cleaned_rows = [\n",
    "            row for row in rows\n",
    "            if len(row) <= 2 or counts.get((row[1], row[2]), 0) == 1\n",
    "        ]\n",
    "\n",
    "        # Ghi lại các dòng không trùng lặp vào file đầu ra\n",
    "        with open(output_path, 'w', encoding='utf-8') as outfile:\n",
    "            for row in cleaned_rows:\n",
    "                outfile.write(' '.join(row) + '\\n')  # Sử dụng khoảng trắng để ngăn cách các cột\n",
    "\n",
    "        print(\"Đã loại bỏ các dòng trùng lặp ở cột 2 và cột 3.\")\n",
    "    except FileNotFoundError:\n",
    "        print(f\"File {file_path} không tồn tại.\")\n",
    "    except Exception as e:\n",
    "        print(f\"Đã xảy ra lỗi: {e}\")"
   ]
  },
  {
   "cell_type": "code",
   "execution_count": 26,
   "metadata": {},
   "outputs": [
    {
     "name": "stderr",
     "output_type": "stream",
     "text": [
      "Clipping input data to the valid range for imshow with RGB data ([0..1] for floats or [0..255] for integers). Got range [0.7982613..1.0000001].\n"
     ]
    },
    {
     "name": "stdout",
     "output_type": "stream",
     "text": [
      "tensor(1.)\n"
     ]
    },
    {
     "data": {
      "image/png": "[encoded data removed]",
      "text/plain": [
       "<Figure size 640x480 with 1 Axes>"
      ]
     },
     "metadata": {},
     "output_type": "display_data"
    }
   ],
   "source": [
    "i = int(torch.rand(1) * 17000)\n",
    "plt.imshow(train_img[i].permute(1,2,0))\n",
    "print(train_label[i])"
   ]
  },
  {
   "cell_type": "code",
   "execution_count": 77,
   "metadata": {},
   "outputs": [
    {
     "name": "stdout",
     "output_type": "stream",
     "text": [
      "Đã loại bỏ các dòng trùng lặp thành công.\n",
      "Đã loại bỏ các dòng trùng lặp ở cột 2 và cột 3.\n",
      "/Users/phamminhtuan/Desktop/Trainning_SET/Images/IMG_2269_iter_2.jpg\n",
      "/Users/phamminhtuan/Downloads/Trainning_SET/Labels/IMG_2269_iter_2.txt\n",
      "418\n",
      "Đã loại bỏ các dòng trùng lặp thành công.\n",
      "Đã loại bỏ các dòng trùng lặp ở cột 2 và cột 3.\n",
      "/Users/phamminhtuan/Desktop/Trainning_SET/Images/IMG_1587_iter_2.jpg\n",
      "/Users/phamminhtuan/Downloads/Trainning_SET/Labels/IMG_1587_iter_2.txt\n",
      "572\n",
      "Đã loại bỏ các dòng trùng lặp thành công.\n",
      "Đã loại bỏ các dòng trùng lặp ở cột 2 và cột 3.\n",
      "/Users/phamminhtuan/Desktop/Trainning_SET/Images/IMG_2270_iter_2.jpg\n",
      "/Users/phamminhtuan/Downloads/Trainning_SET/Labels/IMG_2270_iter_2.txt\n",
      "425\n",
      "Đã loại bỏ các dòng trùng lặp thành công.\n",
      "Đã loại bỏ các dòng trùng lặp ở cột 2 và cột 3.\n",
      "/Users/phamminhtuan/Desktop/Trainning_SET/Images/IMG_1591_iter_2.jpg\n",
      "/Users/phamminhtuan/Downloads/Trainning_SET/Labels/IMG_1591_iter_2.txt\n",
      "572\n",
      "Đã loại bỏ các dòng trùng lặp thành công.\n",
      "Đã loại bỏ các dòng trùng lặp ở cột 2 và cột 3.\n",
      "/Users/phamminhtuan/Desktop/Trainning_SET/Images/IMG_2266_iter_2.jpg\n",
      "/Users/phamminhtuan/Downloads/Trainning_SET/Labels/IMG_2266_iter_2.txt\n",
      "416\n",
      "Đã loại bỏ các dòng trùng lặp thành công.\n",
      "Đã loại bỏ các dòng trùng lặp ở cột 2 và cột 3.\n",
      "/Users/phamminhtuan/Desktop/Trainning_SET/Images/IMG_3958_iter_2.jpg\n",
      "/Users/phamminhtuan/Downloads/Trainning_SET/Labels/IMG_3958_iter_2.txt\n",
      "572\n",
      "Đã loại bỏ các dòng trùng lặp thành công.\n",
      "Đã loại bỏ các dòng trùng lặp ở cột 2 và cột 3.\n",
      "/Users/phamminhtuan/Desktop/Trainning_SET/Images/IMG_3955_iter_2.jpg\n",
      "/Users/phamminhtuan/Downloads/Trainning_SET/Labels/IMG_3955_iter_2.txt\n",
      "572\n",
      "Đã loại bỏ các dòng trùng lặp thành công.\n",
      "Đã loại bỏ các dòng trùng lặp ở cột 2 và cột 3.\n",
      "/Users/phamminhtuan/Desktop/Trainning_SET/Images/IMG_2272_iter_2.jpg\n",
      "/Users/phamminhtuan/Downloads/Trainning_SET/Labels/IMG_2272_iter_2.txt\n",
      "414\n",
      "Đã loại bỏ các dòng trùng lặp thành công.\n",
      "Đã loại bỏ các dòng trùng lặp ở cột 2 và cột 3.\n",
      "/Users/phamminhtuan/Desktop/Trainning_SET/Images/IMG_1586_iter_2.jpg\n",
      "/Users/phamminhtuan/Downloads/Trainning_SET/Labels/IMG_1586_iter_2.txt\n",
      "572\n",
      "Đã loại bỏ các dòng trùng lặp thành công.\n",
      "Đã loại bỏ các dòng trùng lặp ở cột 2 và cột 3.\n",
      "/Users/phamminhtuan/Desktop/Trainning_SET/Images/IMG_2271_iter_2.jpg\n",
      "/Users/phamminhtuan/Downloads/Trainning_SET/Labels/IMG_2271_iter_2.txt\n",
      "425\n",
      "Đã loại bỏ các dòng trùng lặp thành công.\n",
      "Đã loại bỏ các dòng trùng lặp ở cột 2 và cột 3.\n",
      "/Users/phamminhtuan/Desktop/Trainning_SET/Images/IMG_2274_iter_2.jpg\n",
      "/Users/phamminhtuan/Downloads/Trainning_SET/Labels/IMG_2274_iter_2.txt\n",
      "421\n",
      "Đã loại bỏ các dòng trùng lặp thành công.\n",
      "Đã loại bỏ các dòng trùng lặp ở cột 2 và cột 3.\n",
      "/Users/phamminhtuan/Desktop/Trainning_SET/Images/IMG_1592_iter_2.jpg\n",
      "/Users/phamminhtuan/Downloads/Trainning_SET/Labels/IMG_1592_iter_2.txt\n",
      "572\n",
      "Đã loại bỏ các dòng trùng lặp thành công.\n",
      "Đã loại bỏ các dòng trùng lặp ở cột 2 và cột 3.\n",
      "/Users/phamminhtuan/Desktop/Trainning_SET/Images/IMG_2268_iter_2.jpg\n",
      "/Users/phamminhtuan/Downloads/Trainning_SET/Labels/IMG_2268_iter_2.txt\n",
      "419\n",
      "Đã loại bỏ các dòng trùng lặp thành công.\n",
      "Đã loại bỏ các dòng trùng lặp ở cột 2 và cột 3.\n",
      "/Users/phamminhtuan/Desktop/Trainning_SET/Images/IMG_2265_iter_2.jpg\n",
      "/Users/phamminhtuan/Downloads/Trainning_SET/Labels/IMG_2265_iter_2.txt\n",
      "421\n",
      "Đã loại bỏ các dòng trùng lặp thành công.\n",
      "Đã loại bỏ các dòng trùng lặp ở cột 2 và cột 3.\n",
      "/Users/phamminhtuan/Desktop/Trainning_SET/Images/IMG_1584_iter_2.jpg\n",
      "/Users/phamminhtuan/Downloads/Trainning_SET/Labels/IMG_1584_iter_2.txt\n",
      "572\n",
      "Đã loại bỏ các dòng trùng lặp thành công.\n",
      "Đã loại bỏ các dòng trùng lặp ở cột 2 và cột 3.\n",
      "/Users/phamminhtuan/Desktop/Trainning_SET/Images/IMG_1589_iter_2.jpg\n",
      "/Users/phamminhtuan/Downloads/Trainning_SET/Labels/IMG_1589_iter_2.txt\n",
      "572\n",
      "Đã loại bỏ các dòng trùng lặp thành công.\n",
      "Đã loại bỏ các dòng trùng lặp ở cột 2 và cột 3.\n",
      "/Users/phamminhtuan/Desktop/Trainning_SET/Images/IMG_2273_iter_2.jpg\n",
      "/Users/phamminhtuan/Downloads/Trainning_SET/Labels/IMG_2273_iter_2.txt\n",
      "429\n",
      "Đã loại bỏ các dòng trùng lặp thành công.\n",
      "Đã loại bỏ các dòng trùng lặp ở cột 2 và cột 3.\n",
      "/Users/phamminhtuan/Desktop/Trainning_SET/Images/IMG_1590_iter_2.jpg\n",
      "/Users/phamminhtuan/Downloads/Trainning_SET/Labels/IMG_1590_iter_2.txt\n",
      "573\n",
      "Đã loại bỏ các dòng trùng lặp thành công.\n",
      "Đã loại bỏ các dòng trùng lặp ở cột 2 và cột 3.\n",
      "/Users/phamminhtuan/Desktop/Trainning_SET/Images/IMG_2267_iter_2.jpg\n",
      "/Users/phamminhtuan/Downloads/Trainning_SET/Labels/IMG_2267_iter_2.txt\n",
      "412\n",
      "Đã loại bỏ các dòng trùng lặp thành công.\n",
      "Đã loại bỏ các dòng trùng lặp ở cột 2 và cột 3.\n",
      "/Users/phamminhtuan/Desktop/Trainning_SET/Images/IMG_1581_iter_2.jpg\n",
      "/Users/phamminhtuan/Downloads/Trainning_SET/Labels/IMG_1581_iter_2.txt\n",
      "571\n"
     ]
    }
   ],
   "source": [
    "import os\n",
    "image_folder = \"/Users/phamminhtuan/Desktop/Trainning_SET/Images\"\n",
    "label_folder = \"/Users/phamminhtuan/Downloads/Trainning_SET/Labels\"\n",
    "draw_label_folder = \"/Users/phamminhtuan/Downloads/Trainning_SET/drawLabels\"\n",
    "for filename in os.listdir(image_folder):\n",
    "    if filename.endswith('iter_2.jpg'):    \n",
    "        image_path = os.path.join(image_folder, filename)\n",
    "        label_path = os.path.join(label_folder, os.path.splitext(filename)[0] + \".txt\")\n",
    "        remove_duplicate_lines(label_path)\n",
    "        remove_duplicates_column2_and_column3(label_path, label_path)\n",
    "        temp = MyDataset(image_path=image_path,label_path=label_path)\n",
    "        print(image_path)\n",
    "        print(label_path)\n",
    "        print(len(temp)) \n",
    "        image = cv2.imread(image_path)\n",
    "        labels, coords = utils.read_file_to_tensors(label_path)\n",
    "        for i, coord in enumerate(coords):\n",
    "            x1, y1, x2, y2 = utils.find_yolov8_square(image, coord)\n",
    "            cv2.rectangle(image, (x1, y1), (x2, y2), (0, 255, 0), 2)\n",
    "        cv2.imwrite(os.path.join(draw_label_folder, os.path.splitext(filename)[0] + \".jpg\"), image)"
   ]
  },
  {
   "cell_type": "markdown",
   "metadata": {},
   "source": [
    "# Test lại"
   ]
  },
  {
   "cell_type": "code",
   "execution_count": 75,
   "metadata": {},
   "outputs": [],
   "source": [
    "import torch\n",
    "import torch.nn as nn\n",
    "\n",
    "def test_model(model, val_loader, device='cpu'):\n",
    "    \"\"\"\n",
    "    Test the given model on the test dataset.\n",
    "\n",
    "    Args:\n",
    "        model (nn.Module): The trained model to evaluate.\n",
    "        test_loader (DataLoader): A DataLoader for the test data.\n",
    "        device (str, optional): The device to use for testing ('cpu' or 'cuda'). Defaults to 'cpu'.\n",
    "\n",
    "    Returns:\n",
    "        float: Test accuracy (in percentage).\n",
    "        float: Test loss.\n",
    "    \"\"\"\n",
    "    model = model.to(device)\n",
    "    model.eval()  # Chuyển sang chế độ đánh giá\n",
    "    criterion = nn.CrossEntropyLoss()\n",
    "\n",
    "    test_loss = 0\n",
    "    correct = 0\n",
    "    total = 0\n",
    "\n",
    "    with torch.no_grad():  # Tắt tính toán gradient để tăng tốc\n",
    "        for inputs, labels in val_loader:\n",
    "            inputs, labels = inputs.to(device), labels.to(device)\n",
    "            outputs = model(inputs)\n",
    "            labels = labels.long()\n",
    "            loss = criterion(outputs, labels)\n",
    "            test_loss += loss.item()\n",
    "            \n",
    "            _, predicted = torch.max(outputs.data, 1)\n",
    "            total += labels.size(0)\n",
    "            correct += (predicted == labels).sum().item()\n",
    "\n",
    "    test_accuracy = 100 * correct / total\n",
    "    average_test_loss = test_loss / len(val_loader)\n",
    "\n",
    "    print(f'Test Loss: {average_test_loss:.4f}')\n",
    "    print(f'Test Accuracy: {test_accuracy:.2f}%')\n",
    "\n",
    "    return test_accuracy, average_test_loss\n"
   ]
  },
  {
   "cell_type": "code",
   "execution_count": 81,
   "metadata": {},
   "outputs": [
    {
     "name": "stderr",
     "output_type": "stream",
     "text": [
      "/var/folders/hv/wh1bzsb91mz5swh0znhrdrv00000gn/T/ipykernel_18657/1814793565.py:3: FutureWarning: You are using `torch.load` with `weights_only=False` (the current default value), which uses the default pickle module implicitly. It is possible to construct malicious pickle data which will execute arbitrary code during unpickling (See https://github.com/pytorch/pytorch/blob/main/SECURITY.md#untrusted-models for more details). In a future release, the default value for `weights_only` will be flipped to `True`. This limits the functions that could be executed during unpickling. Arbitrary objects will no longer be allowed to be loaded via this mode unless they are explicitly allowlisted by the user via `torch.serialization.add_safe_globals`. We recommend you start setting `weights_only=True` for any use case where you don't have full control of the loaded file. Please open an issue on GitHub for any issues related to this experimental feature.\n",
      "  model.load_state_dict(torch.load('/Users/phamminhtuan/Desktop/AIChallenge/cnn.pth'))\n"
     ]
    },
    {
     "name": "stdout",
     "output_type": "stream",
     "text": [
      "Test Loss: 0.0059\n",
      "Test Accuracy: 99.88%\n"
     ]
    }
   ],
   "source": [
    "device = 'cuda' if torch.cuda.is_available() else 'cpu'\n",
    "model = EfficientCNN()\n",
    "model.load_state_dict(torch.load('/Users/phamminhtuan/Desktop/AIChallenge/cnn.pth'))\n",
    "model = model.to(device)\n",
    "\n",
    "# Đánh giá mô hình\n",
    "test_accuracy, test_loss = test_model(model, val_loader, device=device)"
   ]
  },
  {
   "cell_type": "code",
   "execution_count": 93,
   "metadata": {},
   "outputs": [
    {
     "name": "stderr",
     "output_type": "stream",
     "text": [
      "Clipping input data to the valid range for imshow with RGB data ([0..1] for floats or [0..255] for integers). Got range [0.7021082..1.0000001].\n"
     ]
    },
    {
     "name": "stdout",
     "output_type": "stream",
     "text": [
      "tensor([[-8.2792,  9.2511]], grad_fn=<AddmmBackward0>)\n",
      "tensor(1.)\n"
     ]
    },
    {
     "data": {
      "text/plain": [
       "<matplotlib.image.AxesImage at 0x320a5a1b0>"
      ]
     },
     "execution_count": 93,
     "metadata": {},
     "output_type": "execute_result"
    },
    {
     "data": {
      "image/png": "[encoded data removed]",
      "text/plain": [
       "<Figure size 640x480 with 1 Axes>"
      ]
     },
     "metadata": {},
     "output_type": "display_data"
    }
   ],
   "source": [
    "output = model(image.unsqueeze(0))\n",
    "print(output)\n",
    "print(test[0][1])\n",
    "plt.imshow(image.permute(1,2,0))"
   ]
  },
  {
   "cell_type": "code",
   "execution_count": 103,
   "metadata": {},
   "outputs": [],
   "source": [
    "image_path = \"/Users/phamminhtuan/Desktop/Trainning_SET/Images/IMG_1587_iter_1.jpg\"\n",
    "label_path = \"/Users/phamminhtuan/Desktop/Trainning_SET/Labels/IMG_1587_iter_1.txt\"\n"
   ]
  },
  {
   "cell_type": "code",
   "execution_count": 105,
   "metadata": {},
   "outputs": [
    {
     "data": {
      "text/plain": [
       "True"
      ]
     },
     "execution_count": 105,
     "metadata": {},
     "output_type": "execute_result"
    }
   ],
   "source": [
    "import utils\n",
    "import torchvision \n",
    "image = cv2.imread(image_path)\n",
    "labels, coords = utils.read_file_to_tensors(label_path)\n",
    "for i, coord in enumerate(coords):\n",
    "    xy_coord = utils.find_yolov8_square(image, coord)\n",
    "    x1, y1, x2, y2 = xy_coord\n",
    "    input = utils.get_box(image, xy_coord)\n",
    "    transform = transforms.Compose([\n",
    "            transforms.ToTensor(),\n",
    "            transforms.Resize((32, 32))\n",
    "        ])\n",
    "    input = transform(input)\n",
    "    output = model(input.unsqueeze(0))\n",
    "    _, predicted = torch.max(output.data, 1)\n",
    "    if (predicted == 1):\n",
    "        cv2.rectangle(image, (x1, y1), (x2, y2), (0, 255, 0), 2)\n",
    "cv2.imwrite(\"/Users/phamminhtuan/Desktop/AIChallenge/avg_coords.jpg\", image)"
   ]
  }
 ],
 "metadata": {
  "kernelspec": {
   "display_name": "Python 3",
   "language": "python",
   "name": "python3"
  },
  "language_info": {
   "codemirror_mode": {
    "name": "ipython",
    "version": 3
   },
   "file_extension": ".py",
   "mimetype": "text/x-python",
   "name": "python",
   "nbconvert_exporter": "python",
   "pygments_lexer": "ipython3",
   "version": "3.12.3"
  }
 },
 "nbformat": 4,
 "nbformat_minor": 2
}
